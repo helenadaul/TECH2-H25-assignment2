{
 "cells": [
  {
   "cell_type": "markdown",
   "id": "5b24ab0a",
   "metadata": {},
   "source": [
    "# TECH2 Mandatory assignment 2\n",
    "\n",
    "## About the mandatory assignment\n",
    "\n",
    "-   The assignment must be completed individually.\n",
    "-   You are allowed to use all online resources for help, including generative AI. You must include a statement on how you used AI to solve the tasks.\n",
    "-   After the assignment deadline, you must perform a peer review of two other students' assignment on Canvas. You're not allowed to use AI to write the peer-review for you.\n",
    "-   Deadline for the assignment: Friday, October 17, 16:00.\n",
    "-   Deadline for the peer review: Friday, October 24, 16:00."
   ]
  },
  {
   "cell_type": "markdown",
   "id": "969a9208",
   "metadata": {},
   "source": [
    "\n",
    "## Requirements\n",
    "\n",
    "-   Your solution needs to be uploaded to GitHub. You should fork the assignment repository at\n",
    "    [https://github.com/richardfoltyn/TECH2-H25-assignment2](https://github.com/richardfoltyn/TECH2-H25-assignment2)\n",
    "    and add your solution to this notebook.\n",
    "-   All commits in your repository must be *prior* to the deadline. \n",
    "-   You need to make sure that your GitHub repository is publicly accessible. This can be changed in the GitHub repository setttings, if required.\n",
    "-   You need to submit the URL to the your GitHub repository on Canvas.\n",
    "-   Make sure your notebook runs without errors (`Restart` and `Run all`). \n",
    "-   Your notebook *must* run with the TECH2 environment we've been using in part 2. You can create this environment from the \n",
    "    `environment.yml` file in this repository if you haven't done so earlier.\n"
   ]
  },
  {
   "cell_type": "markdown",
   "id": "2e89eaca",
   "metadata": {},
   "source": [
    "## Tasks\n",
    "\n",
    "In this assignment, you are asked to analyze a 10% sub-sample of the Survey of Consumer Finances (SCF), a survey of household portfolios that is representative of the US population. The survey was administered every 3 years from 1989 to 2022. The appendix in this document contains a description of the variables present in this data set (this is a subset; the original SCF contains many more variables).\n",
    "\n",
    "1.  Data preprocessing\n",
    "\n",
    "    1.  Read the CSV file `SCF_10pct.csv` stored in this repository.\n",
    "    2.  Keep only observations where the household head is aged between 25 and 89. \n",
    "    3.  Create the column `'college'`, which contains an indicator variable that is 1 when the household head has at least some college (column `'educ'` is 3 or 4), and 0 otherwise.\n",
    "    4.  Divide the values in the column `'networth'` by 1,000 so that they are reported in thousands of US dollars.\n",
    "    5.  Report the number of observations in the final sample.\n",
    "\n",
    "2.  In this part, you're asked to analyze how net worth (total gross assets minus total debt) varies across the four education levels (no high school, high school, some college, 4-year college or more):\n",
    "\n",
    "    1.  Compute the average net worth (in thousands of US dollars) by education (use a loop).\n",
    "    2.  Create a bar chart that plots the average net worth by education.\n",
    "\n",
    "3.  In this part, you're asked to analyze how net worth has changed over the last 3 decades:\n",
    "\n",
    "    1.  Compute the average net worth (in thousands of US dollars) by survey year (use a loop).\n",
    "    2.  Create a line plot that shows the evolution of average net worth over the years 1989 to 2022.\n",
    "\n",
    "4.  Finally, combine the analyses from the previous parts to see how net worth evolved over the years for those with and without college.\n",
    "\n",
    "    1.  Compute the average net worth (in thousands of US dollars) by survey year, separately for non-college (`college=0`) and the college-educated (`college=1`).\n",
    "    2.  Create a line plot that shows the evolution of net worth over the years 1989 to 2022 by college status, i.e., your figure should contain two lines, one for college and one for non-college.\n",
    "\n",
    "Remember to add axis labels, titles, and legends (where applicable) to all your figures.\n"
   ]
  },
  {
   "cell_type": "markdown",
   "id": "05716c15",
   "metadata": {},
   "source": [
    "## Hints\n",
    "\n",
    "-   The assignment can be solved using the concepts we covered up to and including lecture/workshop 3 on Friday, October 10. \n",
    "-   In particular, you don't need `groupby()` which we'll cover later in the course, but you can instead loop over education levels or years, as needed."
   ]
  },
  {
   "cell_type": "markdown",
   "id": "b7c832de",
   "metadata": {},
   "source": [
    "***\n",
    "**WRITE YOUR SOLUTION TO PARTS 1-4 HERE**"
   ]
  },
  {
   "cell_type": "markdown",
   "id": "4cd267d3",
   "metadata": {},
   "source": [
    "## Preface\n",
    "\n",
    "__This is my solution for TECH2 Mandatory assignment #2.__\n",
    "\n",
    "I wanted to solve it on my own without the help of AI, so I have not used AI except in part 2.1.\n",
    "\n",
    "In part 2.1, I was able to compute the average networth on my own with query(), but had some issues computing it with a loop. I used ChatGPT, which helped me figure out that I need to write range(len(df1)) in the for-statement and iloc[i] in the if/elif-statements to make the loop work."
   ]
  },
  {
   "cell_type": "markdown",
   "id": "5dba0741",
   "metadata": {},
   "source": [
    "## Part 1\n",
    "#### __1.1__"
   ]
  },
  {
   "cell_type": "code",
   "execution_count": 1,
   "id": "460c03f1",
   "metadata": {},
   "outputs": [
    {
     "data": {
      "text/html": [
       "<div>\n",
       "<style scoped>\n",
       "    .dataframe tbody tr th:only-of-type {\n",
       "        vertical-align: middle;\n",
       "    }\n",
       "\n",
       "    .dataframe tbody tr th {\n",
       "        vertical-align: top;\n",
       "    }\n",
       "\n",
       "    .dataframe thead th {\n",
       "        text-align: right;\n",
       "    }\n",
       "</style>\n",
       "<table border=\"1\" class=\"dataframe\">\n",
       "  <thead>\n",
       "    <tr style=\"text-align: right;\">\n",
       "      <th></th>\n",
       "      <th>id</th>\n",
       "      <th>year</th>\n",
       "      <th>age</th>\n",
       "      <th>educ</th>\n",
       "      <th>networth</th>\n",
       "    </tr>\n",
       "  </thead>\n",
       "  <tbody>\n",
       "    <tr>\n",
       "      <th>0</th>\n",
       "      <td>1</td>\n",
       "      <td>1989</td>\n",
       "      <td>35</td>\n",
       "      <td>2</td>\n",
       "      <td>0.0</td>\n",
       "    </tr>\n",
       "    <tr>\n",
       "      <th>1</th>\n",
       "      <td>2</td>\n",
       "      <td>1989</td>\n",
       "      <td>35</td>\n",
       "      <td>2</td>\n",
       "      <td>0.0</td>\n",
       "    </tr>\n",
       "    <tr>\n",
       "      <th>2</th>\n",
       "      <td>3</td>\n",
       "      <td>1989</td>\n",
       "      <td>51</td>\n",
       "      <td>2</td>\n",
       "      <td>16899.9</td>\n",
       "    </tr>\n",
       "    <tr>\n",
       "      <th>3</th>\n",
       "      <td>4</td>\n",
       "      <td>1989</td>\n",
       "      <td>33</td>\n",
       "      <td>2</td>\n",
       "      <td>25845.6</td>\n",
       "    </tr>\n",
       "    <tr>\n",
       "      <th>4</th>\n",
       "      <td>5</td>\n",
       "      <td>1989</td>\n",
       "      <td>33</td>\n",
       "      <td>2</td>\n",
       "      <td>25845.6</td>\n",
       "    </tr>\n",
       "  </tbody>\n",
       "</table>\n",
       "</div>"
      ],
      "text/plain": [
       "   id  year  age  educ  networth\n",
       "0   1  1989   35     2       0.0\n",
       "1   2  1989   35     2       0.0\n",
       "2   3  1989   51     2   16899.9\n",
       "3   4  1989   33     2   25845.6\n",
       "4   5  1989   33     2   25845.6"
      ]
     },
     "execution_count": 1,
     "metadata": {},
     "output_type": "execute_result"
    }
   ],
   "source": [
    "# Import pandas\n",
    "import pandas as pd\n",
    "\n",
    "# Read csv file\n",
    "df1 = pd.read_csv('SCF_10pct.csv')\n",
    "\n",
    "# Display first 5 rows\n",
    "df1.head(5)"
   ]
  },
  {
   "cell_type": "markdown",
   "id": "d6bf51be",
   "metadata": {},
   "source": [
    "#### __1.2__"
   ]
  },
  {
   "cell_type": "code",
   "execution_count": 2,
   "id": "6cc0730e",
   "metadata": {},
   "outputs": [
    {
     "data": {
      "text/html": [
       "<div>\n",
       "<style scoped>\n",
       "    .dataframe tbody tr th:only-of-type {\n",
       "        vertical-align: middle;\n",
       "    }\n",
       "\n",
       "    .dataframe tbody tr th {\n",
       "        vertical-align: top;\n",
       "    }\n",
       "\n",
       "    .dataframe thead th {\n",
       "        text-align: right;\n",
       "    }\n",
       "</style>\n",
       "<table border=\"1\" class=\"dataframe\">\n",
       "  <thead>\n",
       "    <tr style=\"text-align: right;\">\n",
       "      <th></th>\n",
       "      <th>id</th>\n",
       "      <th>year</th>\n",
       "      <th>age</th>\n",
       "      <th>educ</th>\n",
       "      <th>networth</th>\n",
       "    </tr>\n",
       "  </thead>\n",
       "  <tbody>\n",
       "    <tr>\n",
       "      <th>0</th>\n",
       "      <td>1</td>\n",
       "      <td>1989</td>\n",
       "      <td>35</td>\n",
       "      <td>2</td>\n",
       "      <td>0.0</td>\n",
       "    </tr>\n",
       "    <tr>\n",
       "      <th>1</th>\n",
       "      <td>2</td>\n",
       "      <td>1989</td>\n",
       "      <td>35</td>\n",
       "      <td>2</td>\n",
       "      <td>0.0</td>\n",
       "    </tr>\n",
       "    <tr>\n",
       "      <th>2</th>\n",
       "      <td>3</td>\n",
       "      <td>1989</td>\n",
       "      <td>51</td>\n",
       "      <td>2</td>\n",
       "      <td>16899.9</td>\n",
       "    </tr>\n",
       "    <tr>\n",
       "      <th>3</th>\n",
       "      <td>4</td>\n",
       "      <td>1989</td>\n",
       "      <td>33</td>\n",
       "      <td>2</td>\n",
       "      <td>25845.6</td>\n",
       "    </tr>\n",
       "    <tr>\n",
       "      <th>4</th>\n",
       "      <td>5</td>\n",
       "      <td>1989</td>\n",
       "      <td>33</td>\n",
       "      <td>2</td>\n",
       "      <td>25845.6</td>\n",
       "    </tr>\n",
       "    <tr>\n",
       "      <th>...</th>\n",
       "      <td>...</td>\n",
       "      <td>...</td>\n",
       "      <td>...</td>\n",
       "      <td>...</td>\n",
       "      <td>...</td>\n",
       "    </tr>\n",
       "    <tr>\n",
       "      <th>5803</th>\n",
       "      <td>5804</td>\n",
       "      <td>2022</td>\n",
       "      <td>57</td>\n",
       "      <td>2</td>\n",
       "      <td>129101.0</td>\n",
       "    </tr>\n",
       "    <tr>\n",
       "      <th>5804</th>\n",
       "      <td>5805</td>\n",
       "      <td>2022</td>\n",
       "      <td>80</td>\n",
       "      <td>4</td>\n",
       "      <td>747400.0</td>\n",
       "    </tr>\n",
       "    <tr>\n",
       "      <th>5805</th>\n",
       "      <td>5806</td>\n",
       "      <td>2022</td>\n",
       "      <td>67</td>\n",
       "      <td>4</td>\n",
       "      <td>7354760.0</td>\n",
       "    </tr>\n",
       "    <tr>\n",
       "      <th>5806</th>\n",
       "      <td>5807</td>\n",
       "      <td>2022</td>\n",
       "      <td>70</td>\n",
       "      <td>4</td>\n",
       "      <td>3229000.0</td>\n",
       "    </tr>\n",
       "    <tr>\n",
       "      <th>5807</th>\n",
       "      <td>5808</td>\n",
       "      <td>2022</td>\n",
       "      <td>55</td>\n",
       "      <td>4</td>\n",
       "      <td>818100.0</td>\n",
       "    </tr>\n",
       "  </tbody>\n",
       "</table>\n",
       "<p>5471 rows × 5 columns</p>\n",
       "</div>"
      ],
      "text/plain": [
       "        id  year  age  educ   networth\n",
       "0        1  1989   35     2        0.0\n",
       "1        2  1989   35     2        0.0\n",
       "2        3  1989   51     2    16899.9\n",
       "3        4  1989   33     2    25845.6\n",
       "4        5  1989   33     2    25845.6\n",
       "...    ...   ...  ...   ...        ...\n",
       "5803  5804  2022   57     2   129101.0\n",
       "5804  5805  2022   80     4   747400.0\n",
       "5805  5806  2022   67     4  7354760.0\n",
       "5806  5807  2022   70     4  3229000.0\n",
       "5807  5808  2022   55     4   818100.0\n",
       "\n",
       "[5471 rows x 5 columns]"
      ]
     },
     "execution_count": 2,
     "metadata": {},
     "output_type": "execute_result"
    }
   ],
   "source": [
    "# Only include observations with age between 25 and 89 in dataframe\n",
    "# Use copy() to avoid getting long message when I run the code\n",
    "df1 = df1.query('25 <= age <= 89').copy()\n",
    "\n",
    "# Display data frame\n",
    "df1"
   ]
  },
  {
   "cell_type": "markdown",
   "id": "d9ea2400",
   "metadata": {},
   "source": [
    "#### __1.3__"
   ]
  },
  {
   "cell_type": "code",
   "execution_count": 3,
   "id": "2df84418",
   "metadata": {},
   "outputs": [
    {
     "data": {
      "text/html": [
       "<div>\n",
       "<style scoped>\n",
       "    .dataframe tbody tr th:only-of-type {\n",
       "        vertical-align: middle;\n",
       "    }\n",
       "\n",
       "    .dataframe tbody tr th {\n",
       "        vertical-align: top;\n",
       "    }\n",
       "\n",
       "    .dataframe thead th {\n",
       "        text-align: right;\n",
       "    }\n",
       "</style>\n",
       "<table border=\"1\" class=\"dataframe\">\n",
       "  <thead>\n",
       "    <tr style=\"text-align: right;\">\n",
       "      <th></th>\n",
       "      <th>id</th>\n",
       "      <th>year</th>\n",
       "      <th>age</th>\n",
       "      <th>educ</th>\n",
       "      <th>networth</th>\n",
       "      <th>college</th>\n",
       "    </tr>\n",
       "  </thead>\n",
       "  <tbody>\n",
       "    <tr>\n",
       "      <th>0</th>\n",
       "      <td>1</td>\n",
       "      <td>1989</td>\n",
       "      <td>35</td>\n",
       "      <td>2</td>\n",
       "      <td>0.0</td>\n",
       "      <td>0</td>\n",
       "    </tr>\n",
       "    <tr>\n",
       "      <th>1</th>\n",
       "      <td>2</td>\n",
       "      <td>1989</td>\n",
       "      <td>35</td>\n",
       "      <td>2</td>\n",
       "      <td>0.0</td>\n",
       "      <td>0</td>\n",
       "    </tr>\n",
       "    <tr>\n",
       "      <th>2</th>\n",
       "      <td>3</td>\n",
       "      <td>1989</td>\n",
       "      <td>51</td>\n",
       "      <td>2</td>\n",
       "      <td>16899.9</td>\n",
       "      <td>0</td>\n",
       "    </tr>\n",
       "    <tr>\n",
       "      <th>3</th>\n",
       "      <td>4</td>\n",
       "      <td>1989</td>\n",
       "      <td>33</td>\n",
       "      <td>2</td>\n",
       "      <td>25845.6</td>\n",
       "      <td>0</td>\n",
       "    </tr>\n",
       "    <tr>\n",
       "      <th>4</th>\n",
       "      <td>5</td>\n",
       "      <td>1989</td>\n",
       "      <td>33</td>\n",
       "      <td>2</td>\n",
       "      <td>25845.6</td>\n",
       "      <td>0</td>\n",
       "    </tr>\n",
       "  </tbody>\n",
       "</table>\n",
       "</div>"
      ],
      "text/plain": [
       "   id  year  age  educ  networth  college\n",
       "0   1  1989   35     2       0.0        0\n",
       "1   2  1989   35     2       0.0        0\n",
       "2   3  1989   51     2   16899.9        0\n",
       "3   4  1989   33     2   25845.6        0\n",
       "4   5  1989   33     2   25845.6        0"
      ]
     },
     "execution_count": 3,
     "metadata": {},
     "output_type": "execute_result"
    }
   ],
   "source": [
    "# Create a new column where education level 3 or 4 equals True, and False otherwise\n",
    "# Use astype(int) to make the boolean values into integers\n",
    "df1['college'] = df1['educ'].isin([3, 4]).astype(int)\n",
    "\n",
    "# Display first 5 rows\n",
    "df1.head(5)"
   ]
  },
  {
   "cell_type": "markdown",
   "id": "82c033db",
   "metadata": {},
   "source": [
    "#### __1.4__"
   ]
  },
  {
   "cell_type": "code",
   "execution_count": 4,
   "id": "4fedaa61",
   "metadata": {},
   "outputs": [
    {
     "data": {
      "text/html": [
       "<div>\n",
       "<style scoped>\n",
       "    .dataframe tbody tr th:only-of-type {\n",
       "        vertical-align: middle;\n",
       "    }\n",
       "\n",
       "    .dataframe tbody tr th {\n",
       "        vertical-align: top;\n",
       "    }\n",
       "\n",
       "    .dataframe thead th {\n",
       "        text-align: right;\n",
       "    }\n",
       "</style>\n",
       "<table border=\"1\" class=\"dataframe\">\n",
       "  <thead>\n",
       "    <tr style=\"text-align: right;\">\n",
       "      <th></th>\n",
       "      <th>id</th>\n",
       "      <th>year</th>\n",
       "      <th>age</th>\n",
       "      <th>educ</th>\n",
       "      <th>networth</th>\n",
       "      <th>college</th>\n",
       "    </tr>\n",
       "  </thead>\n",
       "  <tbody>\n",
       "    <tr>\n",
       "      <th>0</th>\n",
       "      <td>1</td>\n",
       "      <td>1989</td>\n",
       "      <td>35</td>\n",
       "      <td>2</td>\n",
       "      <td>0.0000</td>\n",
       "      <td>0</td>\n",
       "    </tr>\n",
       "    <tr>\n",
       "      <th>1</th>\n",
       "      <td>2</td>\n",
       "      <td>1989</td>\n",
       "      <td>35</td>\n",
       "      <td>2</td>\n",
       "      <td>0.0000</td>\n",
       "      <td>0</td>\n",
       "    </tr>\n",
       "    <tr>\n",
       "      <th>2</th>\n",
       "      <td>3</td>\n",
       "      <td>1989</td>\n",
       "      <td>51</td>\n",
       "      <td>2</td>\n",
       "      <td>16.8999</td>\n",
       "      <td>0</td>\n",
       "    </tr>\n",
       "    <tr>\n",
       "      <th>3</th>\n",
       "      <td>4</td>\n",
       "      <td>1989</td>\n",
       "      <td>33</td>\n",
       "      <td>2</td>\n",
       "      <td>25.8456</td>\n",
       "      <td>0</td>\n",
       "    </tr>\n",
       "    <tr>\n",
       "      <th>4</th>\n",
       "      <td>5</td>\n",
       "      <td>1989</td>\n",
       "      <td>33</td>\n",
       "      <td>2</td>\n",
       "      <td>25.8456</td>\n",
       "      <td>0</td>\n",
       "    </tr>\n",
       "  </tbody>\n",
       "</table>\n",
       "</div>"
      ],
      "text/plain": [
       "   id  year  age  educ  networth  college\n",
       "0   1  1989   35     2    0.0000        0\n",
       "1   2  1989   35     2    0.0000        0\n",
       "2   3  1989   51     2   16.8999        0\n",
       "3   4  1989   33     2   25.8456        0\n",
       "4   5  1989   33     2   25.8456        0"
      ]
     },
     "execution_count": 4,
     "metadata": {},
     "output_type": "execute_result"
    }
   ],
   "source": [
    "# Divide networth by 1000\n",
    "df1['networth'] = df1['networth']/1000\n",
    "\n",
    "# Display first 5 rows\n",
    "df1.head(5)"
   ]
  },
  {
   "cell_type": "markdown",
   "id": "ca7b034a",
   "metadata": {},
   "source": [
    "#### __1.5__"
   ]
  },
  {
   "cell_type": "code",
   "execution_count": 5,
   "id": "d39a21bf",
   "metadata": {},
   "outputs": [
    {
     "name": "stdout",
     "output_type": "stream",
     "text": [
      "<class 'pandas.core.frame.DataFrame'>\n",
      "Index: 5471 entries, 0 to 5807\n",
      "Data columns (total 6 columns):\n",
      " #   Column    Non-Null Count  Dtype  \n",
      "---  ------    --------------  -----  \n",
      " 0   id        5471 non-null   int64  \n",
      " 1   year      5471 non-null   int64  \n",
      " 2   age       5471 non-null   int64  \n",
      " 3   educ      5471 non-null   int64  \n",
      " 4   networth  5471 non-null   float64\n",
      " 5   college   5471 non-null   int64  \n",
      "dtypes: float64(1), int64(5)\n",
      "memory usage: 299.2 KB\n"
     ]
    }
   ],
   "source": [
    "# info() shows the number of entries in the data frame\n",
    "df1.info()"
   ]
  },
  {
   "cell_type": "markdown",
   "id": "d22371cd",
   "metadata": {},
   "source": [
    "The number of observations in the final sample is 5471."
   ]
  },
  {
   "cell_type": "markdown",
   "id": "81b2a823",
   "metadata": {},
   "source": [
    "## Part 2"
   ]
  },
  {
   "cell_type": "markdown",
   "id": "dbad12c3",
   "metadata": {},
   "source": [
    "#### __2.1__"
   ]
  },
  {
   "cell_type": "code",
   "execution_count": 6,
   "id": "bf95ea9c",
   "metadata": {},
   "outputs": [],
   "source": [
    "\"\"\" \n",
    "METHOD 1\n",
    "Compute average networth with query()\n",
    "\"\"\"\n",
    "\n",
    "\n",
    "# Select rows with education level 1\n",
    "df1_educ1 = df1.query('educ == 1')\n",
    "# Sum all networth observations and divide by number of observations to find average\n",
    "avg1 = df1_educ1['networth'].sum() / len(df1_educ1)\n",
    "\n",
    "\n",
    "# Do the same for education level 2, 3 and 4\n",
    "df1_educ2 = df1.query('educ == 2')\n",
    "avg2 = df1_educ2['networth'].sum() / len(df1_educ2)\n",
    "\n",
    "df1_educ3 = df1.query('educ == 3')\n",
    "avg3 = df1_educ3['networth'].sum() / len(df1_educ3)\n",
    "\n",
    "df1_educ4 = df1.query('educ == 4')\n",
    "avg4 = df1_educ4['networth'].sum() / len(df1_educ4)\n",
    "\n"
   ]
  },
  {
   "cell_type": "code",
   "execution_count": 7,
   "id": "610e2f11",
   "metadata": {},
   "outputs": [],
   "source": [
    "\"\"\"\n",
    "METHOD 2\n",
    "Compute average networth using a loop\n",
    "Help from ChatGPT in the for-statement and if/elif-statements.\n",
    "\"\"\"\n",
    "\n",
    "# Create empty variables to store the networth sum of each education level\n",
    "sum1 = 0\n",
    "sum2 = 0\n",
    "sum3 = 0\n",
    "sum4 = 0\n",
    "\n",
    "# Create for-loop that runs as many times as there are observations\n",
    "# Help from ChatGPT to write range(len(df1))\n",
    "for i in range(len(df1)):\n",
    "\n",
    "    # Check if education level in row i is equal to 1\n",
    "    # Help from ChatGPT to write iloc[i]\n",
    "    if df1['educ'].iloc[i] == 1:\n",
    "\n",
    "        # Add the networth in that row to the sum1 variable\n",
    "        sum1 = sum1 + df1['networth'].iloc[i]\n",
    "\n",
    "    # Do the same for education level 2, 3 and 4\n",
    "    elif df1['educ'].iloc[i] == 2:\n",
    "        sum2 = sum2 + df1['networth'].iloc[i]\n",
    "\n",
    "    elif df1['educ'].iloc[i] == 3:\n",
    "        sum3 = sum3 + df1['networth'].iloc[i]\n",
    "    \n",
    "    elif df1['educ'].iloc[i] == 4:\n",
    "        sum4 = sum4 + df1['networth'].iloc[i]\n",
    "\n",
    "    else:\n",
    "        pass\n",
    "\n",
    "\n",
    "# Divide each sum variable by the number of observations within that education level\n",
    "# Store the average networths in variables\n",
    "avg1 = sum1 / len(df1.query('educ == 1'))\n",
    "avg2 = sum2 / len(df1.query('educ == 2'))\n",
    "avg3 = sum3 / len(df1.query('educ == 3'))\n",
    "avg4 = sum4 / len(df1.query('educ == 4'))"
   ]
  },
  {
   "cell_type": "code",
   "execution_count": 8,
   "id": "25d14529",
   "metadata": {},
   "outputs": [
    {
     "name": "stdout",
     "output_type": "stream",
     "text": [
      "The average networth for education level 1 (no high school) is 154.41 thousand U.S. dollars.\n",
      "The average networth for education level 2 (high school) is 279.35 thousand U.S. dollars.\n",
      "The average networth for education level 3 (some college) is 1107.28 thousand U.S. dollars.\n",
      "The average networth for education level 4 (4-year college or more) is 1677.32 thousand U.S. dollars.\n"
     ]
    }
   ],
   "source": [
    "# Print answers\n",
    "print(f'The average networth for education level 1 (no high school) is {avg1:.2f} thousand U.S. dollars.')\n",
    "print(f'The average networth for education level 2 (high school) is {avg2:.2f} thousand U.S. dollars.')\n",
    "print(f'The average networth for education level 3 (some college) is {avg3:.2f} thousand U.S. dollars.')\n",
    "print(f'The average networth for education level 4 (4-year college or more) is {avg4:.2f} thousand U.S. dollars.')"
   ]
  },
  {
   "cell_type": "markdown",
   "id": "92ff717a",
   "metadata": {},
   "source": [
    "#### __2.2__"
   ]
  },
  {
   "cell_type": "code",
   "execution_count": 9,
   "id": "b18c0418",
   "metadata": {},
   "outputs": [
    {
     "data": {
      "text/plain": [
       "Text(0, 0.5, 'Average networth (thousand U.S. dollars)')"
      ]
     },
     "execution_count": 9,
     "metadata": {},
     "output_type": "execute_result"
    },
    {
     "data": {
      "image/png": "[encoded data removed]",
      "text/plain": [
       "<Figure size 640x480 with 1 Axes>"
      ]
     },
     "metadata": {},
     "output_type": "display_data"
    }
   ],
   "source": [
    "# Import matplotlib.pyplot\n",
    "import matplotlib.pyplot as plt\n",
    "\n",
    "# Create list of education levels 1-4\n",
    "education_level = ['No high school', 'High school', 'Some college', '4+ year college']\n",
    "\n",
    "# Create list of average networth for education levels 1-4\n",
    "avg_networth = [avg1, avg2, avg3, avg4]\n",
    "\n",
    "# Plot bar chart of average networth by education level\n",
    "plt.bar(education_level, avg_networth)\n",
    "\n",
    "# Add title\n",
    "plt.title('Average networth by education level')\n",
    "\n",
    "# Label x-axis\n",
    "plt.xlabel('Education level')\n",
    "\n",
    "# Label y-axis\n",
    "plt.ylabel('Average networth (thousand U.S. dollars)')\n"
   ]
  },
  {
   "cell_type": "markdown",
   "id": "8d4dda1b",
   "metadata": {},
   "source": [
    "## Part 3"
   ]
  },
  {
   "cell_type": "markdown",
   "id": "aad3f53f",
   "metadata": {},
   "source": [
    "#### __3.1__"
   ]
  },
  {
   "cell_type": "code",
   "execution_count": 10,
   "id": "6b1e0457",
   "metadata": {},
   "outputs": [],
   "source": [
    "# Create empty list to store average networths by survey year\n",
    "avg_nw_year = []\n",
    "\n",
    "# Create empty list for survey years\n",
    "year = []\n",
    "\n",
    "# Use for-loop that runs for each survey year\n",
    "for i in range(1989, 2023, 3):\n",
    "\n",
    "    # Select observations with year equal to i\n",
    "    selectyear = df1.query(f'year == {i}')\n",
    "\n",
    "    # Sum networths from that year and divide by number of observations to find average\n",
    "    avg_nw = selectyear['networth'].sum() / len(selectyear)\n",
    "\n",
    "    # Add survey year to the list\n",
    "    year.append(i)\n",
    "\n",
    "    # Add average networth to the list\n",
    "    avg_nw_year.append(avg_nw)"
   ]
  },
  {
   "cell_type": "markdown",
   "id": "cc14e821",
   "metadata": {},
   "source": [
    "#### __3.2__"
   ]
  },
  {
   "cell_type": "code",
   "execution_count": 11,
   "id": "7665e640",
   "metadata": {},
   "outputs": [
    {
     "data": {
      "text/plain": [
       "<matplotlib.legend.Legend at 0x1a0a128bb60>"
      ]
     },
     "execution_count": 11,
     "metadata": {},
     "output_type": "execute_result"
    },
    {
     "data": {
      "image/png": "[encoded data removed]",
      "text/plain": [
       "<Figure size 640x480 with 1 Axes>"
      ]
     },
     "metadata": {},
     "output_type": "display_data"
    }
   ],
   "source": [
    "# Plot average networth by survey year\n",
    "plt.plot(year, avg_nw_year, label = 'Networth')\n",
    "\n",
    "# Label x-axis\n",
    "plt.xlabel('Year')\n",
    "\n",
    "# Label y-axis\n",
    "plt.ylabel('Average networth (thousand U.S. dollars)')\n",
    "\n",
    "# Add title\n",
    "plt.title('Average networth by survey year')\n",
    "\n",
    "# Add legend\n",
    "plt.legend()"
   ]
  },
  {
   "cell_type": "markdown",
   "id": "79db4db4",
   "metadata": {},
   "source": [
    "## Part 4"
   ]
  },
  {
   "cell_type": "markdown",
   "id": "5a3a6053",
   "metadata": {},
   "source": [
    "#### __4.1__"
   ]
  },
  {
   "cell_type": "code",
   "execution_count": 12,
   "id": "360cc71b",
   "metadata": {},
   "outputs": [],
   "source": [
    "# Create empty lists for average networth by college education and survey year\n",
    "avg_nw_year_c = []\n",
    "avg_nw_year_nc = []\n",
    "\n",
    "# Use for-loop that runs through each survey year\n",
    "for y in year:\n",
    "\n",
    "    # Set sum variables for networth to 0\n",
    "    sum_c = 0\n",
    "    sum_nc = 0\n",
    "\n",
    "    # Set count variables to 0\n",
    "    count_c = 0\n",
    "    count_nc = 0\n",
    "\n",
    "    # Use for-loop that runs for each observation\n",
    "    for i in range(len(df1)):\n",
    "\n",
    "        # Check if the year in current row is equal to the current y\n",
    "        if df1['year'].iloc[i] == y:\n",
    "\n",
    "            # Check if college column of that row is equal to one\n",
    "            if df1['college'].iloc[i] == 1:\n",
    "\n",
    "                # Add networth in that row to the sum_c variable\n",
    "                sum_c = sum_c + df1['networth'].iloc[i]\n",
    "\n",
    "                # Count number of college-educated observations that survey year\n",
    "                count_c = count_c + 1\n",
    "\n",
    "            else:\n",
    "                \n",
    "                # Add networth in that row to sum_nc variable\n",
    "                sum_nc = sum_nc + df1['networth'].iloc[i]\n",
    "\n",
    "                # Count number of non-college observations that survey year\n",
    "                count_nc = count_nc + 1\n",
    "\n",
    "        else:\n",
    "\n",
    "            # Skips observations that are not in the current survey year\n",
    "            pass\n",
    "\n",
    "    # Calculate average networth by survey year for college-educated and add to list\n",
    "    avg_nw_year_c.append(sum_c / count_c)\n",
    "\n",
    "    # Calculate average networth by survey year for non-college and add to list\n",
    "    avg_nw_year_nc.append(sum_nc / count_nc)"
   ]
  },
  {
   "cell_type": "markdown",
   "id": "03e8a75f",
   "metadata": {},
   "source": [
    "#### __4.2__"
   ]
  },
  {
   "cell_type": "code",
   "execution_count": 13,
   "id": "3fd9d104",
   "metadata": {},
   "outputs": [
    {
     "data": {
      "text/plain": [
       "<matplotlib.legend.Legend at 0x1a0a1cd0690>"
      ]
     },
     "execution_count": 13,
     "metadata": {},
     "output_type": "execute_result"
    },
    {
     "data": {
      "image/png": "[encoded data removed]",
      "text/plain": [
       "<Figure size 640x480 with 1 Axes>"
      ]
     },
     "metadata": {},
     "output_type": "display_data"
    }
   ],
   "source": [
    "# Plot average networth by survey year for college-educated\n",
    "plt.plot(year, avg_nw_year_c, label = 'College-educated')\n",
    "\n",
    "# Plot average networth by survey year for non-college\n",
    "plt.plot(year, avg_nw_year_nc, label = 'Non-college')\n",
    "\n",
    "# Label x-axis\n",
    "plt.xlabel('Year')\n",
    "# Label y-axis\n",
    "plt.ylabel('Average networth (thousand U.S. dollars')\n",
    "\n",
    "# Add title\n",
    "plt.title('Average networth by survey year by college status')\n",
    "# Add legend\n",
    "plt.legend()"
   ]
  },
  {
   "cell_type": "markdown",
   "id": "1f983064",
   "metadata": {},
   "source": [
    "***\n",
    "# Data description"
   ]
  },
  {
   "cell_type": "markdown",
   "id": "ee90f234",
   "metadata": {},
   "source": [
    "## Variables\n",
    "\n",
    "| Variable         | Description |\n",
    "|------------------|-------------|\n",
    "| id               | Identifier  |\n",
    "| year             | Survey year |\n",
    "| age             | Age of reference person (household head) |\n",
    "| educ            | Education of reference person (1 = no high school/GED, 2 = high school or GED, 3 = some college or Assoc. degree, 4 = Bachelors degree or higher)|\n",
    "| networth        | Net worth in US dollars |"
   ]
  },
  {
   "cell_type": "markdown",
   "id": "339882d9",
   "metadata": {},
   "source": [
    "## Reference\n",
    "\n",
    "- URL: https://www.federalreserve.gov/econres/scfindex.htm\n",
    "- DOI Identifier: https://doi.org/10.17016/8799\n",
    "- Creator: Board of Governors of the Federal Reserve Board\n",
    "- Name: 2022 Survey of Consumer Finances\n",
    "- Description:\n",
    "    The Survey of Consumer Finances (SCF) is normally a triennial cross-sectional survey of U.S. families. The survey data include information on families' balance sheets, pensions, income, and demographic characteristics.\n",
    "- Publisher: Board of Governors of the Federal Reserve System\n",
    "- Publication Year: 2023 "
   ]
  }
 ],
 "metadata": {
  "kernelspec": {
   "display_name": "TECH2",
   "language": "python",
   "name": "python3"
  },
  "language_info": {
   "codemirror_mode": {
    "name": "ipython",
    "version": 3
   },
   "file_extension": ".py",
   "mimetype": "text/x-python",
   "name": "python",
   "nbconvert_exporter": "python",
   "pygments_lexer": "ipython3",
   "version": "3.13.5"
  }
 },
 "nbformat": 4,
 "nbformat_minor": 5
}
